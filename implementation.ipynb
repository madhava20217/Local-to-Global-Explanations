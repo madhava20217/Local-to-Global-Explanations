{
 "cells": [
  {
   "cell_type": "code",
   "execution_count": 1,
   "metadata": {},
   "outputs": [
    {
     "name": "stdout",
     "output_type": "stream",
     "text": [
      "Requirement already satisfied: pandas in c:\\users\\krish\\.conda\\envs\\torchnew\\lib\\site-packages (2.1.2)Note: you may need to restart the kernel to use updated packages.\n",
      "\n",
      "Requirement already satisfied: numpy in c:\\users\\krish\\.conda\\envs\\torchnew\\lib\\site-packages (1.26.0)\n",
      "Requirement already satisfied: scikit-learn in c:\\users\\krish\\.conda\\envs\\torchnew\\lib\\site-packages (1.3.2)\n",
      "Requirement already satisfied: ucimlrepo in c:\\users\\krish\\.conda\\envs\\torchnew\\lib\\site-packages (0.0.3)\n",
      "Requirement already satisfied: lime in c:\\users\\krish\\.conda\\envs\\torchnew\\lib\\site-packages (0.2.0.1)\n",
      "Requirement already satisfied: python-dateutil>=2.8.2 in c:\\users\\krish\\.conda\\envs\\torchnew\\lib\\site-packages (from pandas) (2.8.2)\n",
      "Requirement already satisfied: pytz>=2020.1 in c:\\users\\krish\\.conda\\envs\\torchnew\\lib\\site-packages (from pandas) (2023.3.post1)\n",
      "Requirement already satisfied: tzdata>=2022.1 in c:\\users\\krish\\.conda\\envs\\torchnew\\lib\\site-packages (from pandas) (2023.3)\n",
      "Requirement already satisfied: scipy>=1.5.0 in c:\\users\\krish\\.conda\\envs\\torchnew\\lib\\site-packages (from scikit-learn) (1.11.4)\n",
      "Requirement already satisfied: joblib>=1.1.1 in c:\\users\\krish\\.conda\\envs\\torchnew\\lib\\site-packages (from scikit-learn) (1.3.2)\n",
      "Requirement already satisfied: threadpoolctl>=2.0.0 in c:\\users\\krish\\.conda\\envs\\torchnew\\lib\\site-packages (from scikit-learn) (3.2.0)\n",
      "Requirement already satisfied: matplotlib in c:\\users\\krish\\.conda\\envs\\torchnew\\lib\\site-packages (from lime) (3.8.1)\n",
      "Requirement already satisfied: tqdm in c:\\users\\krish\\.conda\\envs\\torchnew\\lib\\site-packages (from lime) (4.66.1)\n",
      "Requirement already satisfied: scikit-image>=0.12 in c:\\users\\krish\\.conda\\envs\\torchnew\\lib\\site-packages (from lime) (0.22.0)\n",
      "Requirement already satisfied: six>=1.5 in c:\\users\\krish\\.conda\\envs\\torchnew\\lib\\site-packages (from python-dateutil>=2.8.2->pandas) (1.16.0)\n",
      "Requirement already satisfied: networkx>=2.8 in c:\\users\\krish\\.conda\\envs\\torchnew\\lib\\site-packages (from scikit-image>=0.12->lime) (3.1)\n",
      "Requirement already satisfied: pillow>=9.0.1 in c:\\users\\krish\\.conda\\envs\\torchnew\\lib\\site-packages (from scikit-image>=0.12->lime) (10.0.1)\n",
      "Requirement already satisfied: imageio>=2.27 in c:\\users\\krish\\.conda\\envs\\torchnew\\lib\\site-packages (from scikit-image>=0.12->lime) (2.33.0)\n",
      "Requirement already satisfied: tifffile>=2022.8.12 in c:\\users\\krish\\.conda\\envs\\torchnew\\lib\\site-packages (from scikit-image>=0.12->lime) (2023.12.9)\n",
      "Requirement already satisfied: packaging>=21 in c:\\users\\krish\\.conda\\envs\\torchnew\\lib\\site-packages (from scikit-image>=0.12->lime) (23.2)\n",
      "Requirement already satisfied: lazy_loader>=0.3 in c:\\users\\krish\\.conda\\envs\\torchnew\\lib\\site-packages (from scikit-image>=0.12->lime) (0.3)\n",
      "Requirement already satisfied: contourpy>=1.0.1 in c:\\users\\krish\\.conda\\envs\\torchnew\\lib\\site-packages (from matplotlib->lime) (1.1.1)\n",
      "Requirement already satisfied: cycler>=0.10 in c:\\users\\krish\\.conda\\envs\\torchnew\\lib\\site-packages (from matplotlib->lime) (0.12.1)\n",
      "Requirement already satisfied: fonttools>=4.22.0 in c:\\users\\krish\\.conda\\envs\\torchnew\\lib\\site-packages (from matplotlib->lime) (4.43.1)\n",
      "Requirement already satisfied: kiwisolver>=1.3.1 in c:\\users\\krish\\.conda\\envs\\torchnew\\lib\\site-packages (from matplotlib->lime) (1.4.5)\n",
      "Requirement already satisfied: pyparsing>=2.3.1 in c:\\users\\krish\\.conda\\envs\\torchnew\\lib\\site-packages (from matplotlib->lime) (3.1.1)\n",
      "Requirement already satisfied: colorama in c:\\users\\krish\\.conda\\envs\\torchnew\\lib\\site-packages (from tqdm->lime) (0.4.6)\n"
     ]
    }
   ],
   "source": [
    "%pip install pandas numpy scikit-learn ucimlrepo lime"
   ]
  },
  {
   "cell_type": "code",
   "execution_count": 4,
   "metadata": {},
   "outputs": [],
   "source": [
    "import pandas as pd\n",
    "import numpy as np\n",
    "from sklearn.neural_network import MLPClassifier\n",
    "from sklearn.preprocessing import OneHotEncoder, Normalizer\n",
    "from sklearn.model_selection import train_test_split\n",
    "from sklearn.metrics import accuracy_score\n",
    "\n",
    "from ucimlrepo import fetch_ucirepo \n",
    "import lime\n",
    "from lime import lime_tabular\n",
    "\n",
    "import pickle as pkl\n",
    "\n",
    "\n",
    "MODEL_NAME = 'Wine'\n",
    "\n",
    "coding = {\"Wine\": 109}"
   ]
  },
  {
   "cell_type": "code",
   "execution_count": 6,
   "metadata": {},
   "outputs": [],
   "source": [
    "# fetch dataset \n",
    "split_size = 0.3\n",
    "seed = 1234567\n",
    "\n",
    "dataset_id = coding[MODEL_NAME]\n",
    "\n",
    "wine = fetch_ucirepo(id=109) \n",
    "  \n",
    "# data (as pandas dataframes) \n",
    "X = wine.data.features \n",
    "y = wine.data.targets \n",
    "\n",
    "n_classes = len(y['class'].unique())\n",
    "n_feats = X.shape[1]\n",
    "x_train, x_test, y_train, y_test = train_test_split(X, y, stratify = y, test_size = split_size, random_state = seed)\n",
    "\n",
    "normalizer = Normalizer().fit(x_train)\n",
    "encoder = OneHotEncoder().fit(y_train)\n",
    "\n",
    "x_train = normalizer.transform(x_train)\n",
    "x_test = normalizer.transform(x_test)\n",
    "y_train = encoder.transform(y_train)\n",
    "y_test  = encoder.transform(y_test)"
   ]
  },
  {
   "cell_type": "code",
   "execution_count": 7,
   "metadata": {},
   "outputs": [
    {
     "data": {
      "text/plain": [
       "(3, 13)"
      ]
     },
     "execution_count": 7,
     "metadata": {},
     "output_type": "execute_result"
    }
   ],
   "source": [
    "n_classes, n_feats"
   ]
  },
  {
   "cell_type": "code",
   "execution_count": 8,
   "metadata": {},
   "outputs": [],
   "source": [
    "def evaluate_model(model, x, y):\n",
    "    pred = model.predict(x)\n",
    "    return accuracy_score(y, pred)"
   ]
  },
  {
   "cell_type": "code",
   "execution_count": 9,
   "metadata": {},
   "outputs": [
    {
     "name": "stdout",
     "output_type": "stream",
     "text": [
      "0.5967741935483871 0.6296296296296297\n"
     ]
    }
   ],
   "source": [
    "model = MLPClassifier((n_feats, 256, n_classes),\n",
    "                      activation = 'relu',\n",
    "                      learning_rate = 'adaptive', \n",
    "                      learning_rate_init=0.029, \n",
    "                      max_iter = 1000,\n",
    "                      random_state=3)\n",
    "model.fit(x_train, y_train)\n",
    "\n",
    "acc_train = evaluate_model(model, x_train, y_train)\n",
    "acc_test  = evaluate_model(model, x_test, y_test)\n",
    "\n",
    "print(acc_train, acc_test)"
   ]
  },
  {
   "cell_type": "code",
   "execution_count": 10,
   "metadata": {},
   "outputs": [],
   "source": [
    "with open(f'{MODEL_NAME}.pkl', 'wb') as f:\n",
    "    pkl.dump(model, f)"
   ]
  },
  {
   "cell_type": "code",
   "execution_count": 25,
   "metadata": {},
   "outputs": [],
   "source": [
    "predicted_labels = model.predict(x_test).toarray().argmax(axis = 1)"
   ]
  },
  {
   "cell_type": "code",
   "execution_count": 35,
   "metadata": {},
   "outputs": [
    {
     "name": "stderr",
     "output_type": "stream",
     "text": [
      "c:\\Users\\krish\\.conda\\envs\\torchnew\\Lib\\site-packages\\lime\\lime_tabular.py:372: UserWarning: \n",
      "                    Prediction probabilties do not sum to 1, and\n",
      "                    thus does not constitute a probability space.\n",
      "                    Check that you classifier outputs probabilities\n",
      "                    (Not log probabilities, or actual class predictions).\n",
      "                    \n",
      "  warnings.warn(\"\"\"\n"
     ]
    },
    {
     "data": {
      "text/plain": [
       "[(9, 0.1848379175010235),\n",
       " (3, 0.14315661284391373),\n",
       " (6, -0.09554077845091656),\n",
       " (8, 0.049502894093396775),\n",
       " (4, 0.04783298737703355),\n",
       " (10, 0.03850792470559048),\n",
       " (11, -0.031199826789448045),\n",
       " (2, 0.021128853336642932),\n",
       " (7, 0.015179366586021651),\n",
       " (5, -0.00976417174586477),\n",
       " (1, 0.006906603276165515),\n",
       " (12, -0.005951042456801082),\n",
       " (0, 0.00441306784448117)]"
      ]
     },
     "execution_count": 35,
     "metadata": {},
     "output_type": "execute_result"
    }
   ],
   "source": [
    "explainer = lime_tabular.LimeTabularExplainer(\n",
    "    training_data = x_train,\n",
    "    mode = 'classification'\n",
    ")\n",
    "\n",
    "idx = 0\n",
    "\n",
    "exp = explainer.explain_instance(x_test[idx], model.predict_proba, [predicted_labels[idx]] , num_features = n_feats)\n",
    "local_exp = list(exp.local_exp.values())[0]\n",
    "\n",
    "local_exp"
   ]
  },
  {
   "cell_type": "code",
   "execution_count": 36,
   "metadata": {},
   "outputs": [
    {
     "data": {
      "text/plain": [
       "[(0, 0.00441306784448117),\n",
       " (1, 0.006906603276165515),\n",
       " (2, 0.021128853336642932),\n",
       " (3, 0.14315661284391373),\n",
       " (4, 0.04783298737703355),\n",
       " (5, -0.00976417174586477),\n",
       " (6, -0.09554077845091656),\n",
       " (7, 0.015179366586021651),\n",
       " (8, 0.049502894093396775),\n",
       " (9, 0.1848379175010235),\n",
       " (10, 0.03850792470559048),\n",
       " (11, -0.031199826789448045),\n",
       " (12, -0.005951042456801082)]"
      ]
     },
     "execution_count": 36,
     "metadata": {},
     "output_type": "execute_result"
    }
   ],
   "source": [
    "sorted(local_exp)"
   ]
  },
  {
   "cell_type": "code",
   "execution_count": 13,
   "metadata": {},
   "outputs": [
    {
     "ename": "KeyError",
     "evalue": "1",
     "output_type": "error",
     "traceback": [
      "\u001b[1;31m---------------------------------------------------------------------------\u001b[0m",
      "\u001b[1;31mKeyError\u001b[0m                                  Traceback (most recent call last)",
      "Cell \u001b[1;32mIn[13], line 1\u001b[0m\n\u001b[1;32m----> 1\u001b[0m \u001b[39msum\u001b[39m([\u001b[39mabs\u001b[39m(x[\u001b[39m1\u001b[39m]) \u001b[39mfor\u001b[39;00m x \u001b[39min\u001b[39;00m exp\u001b[39m.\u001b[39;49mlocal_exp[\u001b[39m1\u001b[39;49m]])\n",
      "\u001b[1;31mKeyError\u001b[0m: 1"
     ]
    }
   ],
   "source": [
    "sum([abs(x[1]) for x in exp.local_exp[1]])"
   ]
  },
  {
   "cell_type": "code",
   "execution_count": null,
   "metadata": {},
   "outputs": [],
   "source": [
    "# TODO\n",
    "# add bayesian hyperparameter optimization for finding optimal number of components in gaussian mixture model (https://www.run.ai/guides/hyperparameter-tuning/bayesian-hyperparameter-optimization)\n",
    "# do sampling and hyperparameter exstimation\n",
    "# https://www.mdpi.com/2673-2688/4/2/23#:~:text=Post%2Dhoc%20explanation%20methods%20can,of%20underlying%20black%2Dbox%20model.\n",
    "# https://arxiv.org/pdf/1907.03039.pdf\n",
    "# https://arxiv.org/pdf/2101.07685.pdf\n",
    "# https://proceedings.neurips.cc/paper_files/paper/2020/file/24aef8cb3281a2422a59b51659f1ad2e-Paper.pdf\n",
    "# https://www.analyticsvidhya.com/blog/2018/11/reinforcement-learning-introduction-monte-carlo-learning-openai-gym/\n",
    "# https://faculty.washington.edu/yenchic/21Sp_stat542/Lec3_Mixture.pdf\n",
    "# https://machinelearningmastery.com/probabilistic-model-selection-measures/\n",
    "# https://www.run.ai/guides/hyperparameter-tuning/bayesian-hyperparameter-optimization\n",
    "# https://scikit-learn.org/stable/modules/generated/sklearn.mixture.BayesianGaussianMixture.html#sklearn.mixture.BayesianGaussianMixture\n",
    "# https://stats.stackexchange.com/questions/226834/sampling-from-a-mixture-of-two-gamma-distributions/226837#226837\n",
    "\n",
    "# https://github.com/marcotcr/lime/blob/master/lime/explanation.py\n",
    "# https://lime-ml.readthedocs.io/en/latest/lime.html#\n",
    "# https://www.analyticsvidhya.com/blog/2022/07/everything-you-need-to-know-about-lime/\n",
    "# https://github.com/msetzu/glocalx\n",
    "# https://drive.google.com/file/d/1gW7V4FyUj9vajrGbIkoa7mbbZn4xEbD6/view\n",
    "\n",
    "\n",
    "# benchmarks\n",
    "# https://arxiv.org/pdf/2106.12543.pdf"
   ]
  },
  {
   "cell_type": "code",
   "execution_count": null,
   "metadata": {},
   "outputs": [],
   "source": []
  }
 ],
 "metadata": {
  "kernelspec": {
   "display_name": "Python 3.11.5 ('torchnew')",
   "language": "python",
   "name": "python3"
  },
  "language_info": {
   "codemirror_mode": {
    "name": "ipython",
    "version": 3
   },
   "file_extension": ".py",
   "mimetype": "text/x-python",
   "name": "python",
   "nbconvert_exporter": "python",
   "pygments_lexer": "ipython3",
   "version": "3.11.5"
  },
  "orig_nbformat": 4,
  "vscode": {
   "interpreter": {
    "hash": "837d38702d68a55c15eaac5c5e02ad740c2103af87bc8f81f0c8506afc645a88"
   }
  }
 },
 "nbformat": 4,
 "nbformat_minor": 2
}
