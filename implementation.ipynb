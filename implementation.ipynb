{
 "cells": [
  {
   "cell_type": "code",
   "execution_count": 226,
   "metadata": {},
   "outputs": [
    {
     "name": "stdout",
     "output_type": "stream",
     "text": [
      "Requirement already satisfied: pandas in c:\\programdata\\anaconda3\\envs\\torchnew\\lib\\site-packages (1.5.3)\n",
      "Requirement already satisfied: numpy in c:\\programdata\\anaconda3\\envs\\torchnew\\lib\\site-packages (1.24.4)\n",
      "Requirement already satisfied: scikit-learn in c:\\programdata\\anaconda3\\envs\\torchnew\\lib\\site-packages (1.3.0)\n",
      "Requirement already satisfied: ucimlrepo in c:\\programdata\\anaconda3\\envs\\torchnew\\lib\\site-packages (0.0.3)\n",
      "Requirement already satisfied: lime in c:\\programdata\\anaconda3\\envs\\torchnew\\lib\\site-packages (0.2.0.1)\n",
      "Requirement already satisfied: python-dateutil>=2.8.1 in c:\\programdata\\anaconda3\\envs\\torchnew\\lib\\site-packages (from pandas) (2.8.2)\n",
      "Requirement already satisfied: pytz>=2020.1 in c:\\programdata\\anaconda3\\envs\\torchnew\\lib\\site-packages (from pandas) (2023.3.post1)\n",
      "Requirement already satisfied: scipy>=1.5.0 in c:\\programdata\\anaconda3\\envs\\torchnew\\lib\\site-packages (from scikit-learn) (1.11.2)\n",
      "Requirement already satisfied: joblib>=1.1.1 in c:\\programdata\\anaconda3\\envs\\torchnew\\lib\\site-packages (from scikit-learn) (1.3.2)\n",
      "Requirement already satisfied: threadpoolctl>=2.0.0 in c:\\programdata\\anaconda3\\envs\\torchnew\\lib\\site-packages (from scikit-learn) (3.2.0)\n",
      "Requirement already satisfied: matplotlib in c:\\programdata\\anaconda3\\envs\\torchnew\\lib\\site-packages (from lime) (3.8.0)\n",
      "Requirement already satisfied: tqdm in c:\\programdata\\anaconda3\\envs\\torchnew\\lib\\site-packages (from lime) (4.65.0)\n",
      "Requirement already satisfied: scikit-image>=0.12 in c:\\programdata\\anaconda3\\envs\\torchnew\\lib\\site-packages (from lime) (0.21.0)\n",
      "Requirement already satisfied: six>=1.5 in c:\\programdata\\anaconda3\\envs\\torchnew\\lib\\site-packages (from python-dateutil>=2.8.1->pandas) (1.16.0)\n",
      "Requirement already satisfied: networkx>=2.8 in c:\\programdata\\anaconda3\\envs\\torchnew\\lib\\site-packages (from scikit-image>=0.12->lime) (3.1)\n",
      "Requirement already satisfied: pillow>=9.0.1 in c:\\programdata\\anaconda3\\envs\\torchnew\\lib\\site-packages (from scikit-image>=0.12->lime) (10.0.1)\n",
      "Requirement already satisfied: imageio>=2.27 in c:\\programdata\\anaconda3\\envs\\torchnew\\lib\\site-packages (from scikit-image>=0.12->lime) (2.31.3)\n",
      "Requirement already satisfied: tifffile>=2022.8.12 in c:\\programdata\\anaconda3\\envs\\torchnew\\lib\\site-packages (from scikit-image>=0.12->lime) (2023.8.30)\n",
      "Requirement already satisfied: PyWavelets>=1.1.1 in c:\\programdata\\anaconda3\\envs\\torchnew\\lib\\site-packages (from scikit-image>=0.12->lime) (1.4.1)\n",
      "Requirement already satisfied: packaging>=21 in c:\\programdata\\anaconda3\\envs\\torchnew\\lib\\site-packages (from scikit-image>=0.12->lime) (23.1)\n",
      "Requirement already satisfied: lazy_loader>=0.2 in c:\\programdata\\anaconda3\\envs\\torchnew\\lib\\site-packages (from scikit-image>=0.12->lime) (0.3)\n",
      "Requirement already satisfied: contourpy>=1.0.1 in c:\\programdata\\anaconda3\\envs\\torchnew\\lib\\site-packages (from matplotlib->lime) (1.1.1)\n",
      "Requirement already satisfied: cycler>=0.10 in c:\\programdata\\anaconda3\\envs\\torchnew\\lib\\site-packages (from matplotlib->lime) (0.11.0)\n",
      "Requirement already satisfied: fonttools>=4.22.0 in c:\\programdata\\anaconda3\\envs\\torchnew\\lib\\site-packages (from matplotlib->lime) (4.42.1)\n",
      "Requirement already satisfied: kiwisolver>=1.0.1 in c:\\programdata\\anaconda3\\envs\\torchnew\\lib\\site-packages (from matplotlib->lime) (1.4.5)\n",
      "Requirement already satisfied: pyparsing>=2.3.1 in c:\\programdata\\anaconda3\\envs\\torchnew\\lib\\site-packages (from matplotlib->lime) (3.1.1)\n",
      "Requirement already satisfied: colorama in c:\\programdata\\anaconda3\\envs\\torchnew\\lib\\site-packages (from tqdm->lime) (0.4.6)\n",
      "Note: you may need to restart the kernel to use updated packages.\n"
     ]
    },
    {
     "name": "stderr",
     "output_type": "stream",
     "text": [
      "WARNING: Skipping c:\\ProgramData\\Anaconda3\\envs\\torchnew\\Lib\\site-packages\\numpy-1.26.0.dist-info due to invalid metadata entry 'name'\n",
      "WARNING: Skipping c:\\ProgramData\\Anaconda3\\envs\\torchnew\\Lib\\site-packages\\numpy-1.26.0.dist-info due to invalid metadata entry 'name'\n",
      "WARNING: Skipping c:\\ProgramData\\Anaconda3\\envs\\torchnew\\Lib\\site-packages\\numpy-1.26.0.dist-info due to invalid metadata entry 'name'\n",
      "WARNING: Skipping c:\\ProgramData\\Anaconda3\\envs\\torchnew\\Lib\\site-packages\\numpy-1.26.0.dist-info due to invalid metadata entry 'name'\n",
      "WARNING: Skipping c:\\ProgramData\\Anaconda3\\envs\\torchnew\\Lib\\site-packages\\numpy-1.26.0.dist-info due to invalid metadata entry 'name'\n",
      "WARNING: Skipping c:\\ProgramData\\Anaconda3\\envs\\torchnew\\Lib\\site-packages\\numpy-1.26.0.dist-info due to invalid metadata entry 'name'\n"
     ]
    }
   ],
   "source": [
    "%pip install pandas numpy scikit-learn ucimlrepo lime"
   ]
  },
  {
   "cell_type": "code",
   "execution_count": 234,
   "metadata": {},
   "outputs": [],
   "source": [
    "import pandas as pd\n",
    "import numpy as np\n",
    "from sklearn.neural_network import MLPClassifier\n",
    "from sklearn.linear_model import LogisticRegression\n",
    "from sklearn.preprocessing import OneHotEncoder, Normalizer, LabelEncoder\n",
    "from sklearn.tree import DecisionTreeClassifier\n",
    "from sklearn.model_selection import train_test_split\n",
    "from sklearn.metrics import accuracy_score\n",
    "from sklearn.mixture import GaussianMixture\n",
    "from sklearn.svm import SVC\n",
    "\n",
    "from ucimlrepo import fetch_ucirepo \n",
    "import lime\n",
    "from lime import lime_tabular\n",
    "\n",
    "import pickle as pkl\n",
    "\n",
    "from bayes_opt import BayesianOptimization\n",
    "from tqdm import tqdm\n",
    "import matplotlib.pyplot as plt\n",
    "\n",
    "from scipy.stats import uniform\n",
    "from scipy.special import softmax\n",
    "import shap\n",
    "\n",
    "MODEL_NAME = 'Wine'\n",
    "\n",
    "MODEL_FUNCTION = DecisionTreeClassifier\n",
    "model_params = {}\n",
    "coding = {\"Wine\": 109}\n"
   ]
  },
  {
   "cell_type": "code",
   "execution_count": 228,
   "metadata": {},
   "outputs": [],
   "source": [
    "# fetch dataset \n",
    "split_size = 0.3\n",
    "seed = 1234567\n",
    "\n",
    "dataset_id = coding[MODEL_NAME]\n",
    "\n",
    "wine = fetch_ucirepo(id=109) "
   ]
  },
  {
   "cell_type": "code",
   "execution_count": 229,
   "metadata": {},
   "outputs": [],
   "source": [
    "# data (as pandas dataframes) \n",
    "X = wine.data.features\n",
    "y = wine.data.targets.to_numpy()\n",
    "y = y.reshape((len(y), ))\n",
    "    \n",
    "\n",
    "n_classes = len(np.unique(y))\n",
    "n_feats = X.shape[1]\n",
    "x_train, x_test, y_train, y_test = train_test_split(X, y, stratify = y, test_size = split_size, random_state = seed)\n",
    "\n",
    "normalizer = Normalizer().fit(x_train)\n",
    "encoder = LabelEncoder().fit(y_train)\n",
    "\n",
    "x_train = normalizer.transform(x_train)\n",
    "x_test = normalizer.transform(x_test)\n",
    "y_train = encoder.transform(y_train)\n",
    "y_test  = encoder.transform(y_test)"
   ]
  },
  {
   "cell_type": "code",
   "execution_count": 230,
   "metadata": {},
   "outputs": [],
   "source": [
    "def evaluate_model(model, samples, targets):\n",
    "    pred = model.predict(samples)\n",
    "    return accuracy_score(targets, pred)"
   ]
  },
  {
   "cell_type": "code",
   "execution_count": 242,
   "metadata": {},
   "outputs": [
    {
     "name": "stdout",
     "output_type": "stream",
     "text": [
      "1.0 1.0\n"
     ]
    }
   ],
   "source": [
    "model = MODEL_FUNCTION(*model_params)\n",
    "model.fit(x_train, y_train)\n",
    "\n",
    "acc_train = evaluate_model(model, x_train, y_train)\n",
    "acc_test  = evaluate_model(model, x_test, y_test)\n",
    "\n",
    "print(acc_train, acc_test)"
   ]
  },
  {
   "cell_type": "code",
   "execution_count": 173,
   "metadata": {},
   "outputs": [],
   "source": [
    "with open(f'{MODEL_NAME}.pkl', 'wb') as f:\n",
    "    pkl.dump(model, f)"
   ]
  },
  {
   "cell_type": "code",
   "execution_count": 174,
   "metadata": {},
   "outputs": [],
   "source": [
    "predicted_labels = model.predict(x_test)"
   ]
  },
  {
   "cell_type": "markdown",
   "metadata": {},
   "source": [
    "### Interpretability"
   ]
  },
  {
   "cell_type": "code",
   "execution_count": 175,
   "metadata": {},
   "outputs": [],
   "source": [
    "def get_local_interpretation(explainer, predict_function, sample, num_features):\n",
    "    \n",
    "    exp = explainer.explain_instance(sample, predict_function, num_features = len(sample))\n",
    "    local_exp = list(exp.local_exp.values())[0]\n",
    "    local_exp = sorted(local_exp)\n",
    "    \n",
    "    explanations = [x[1] for x in local_exp]\n",
    "    return explanations"
   ]
  },
  {
   "cell_type": "code",
   "execution_count": 207,
   "metadata": {},
   "outputs": [
    {
     "name": "stdout",
     "output_type": "stream",
     "text": [
      "|   iter    |  target   | n_comp... |\n",
      "-------------------------------------\n",
      "| \u001b[0m1        \u001b[0m | \u001b[0m-7.5e+03 \u001b[0m | \u001b[0m18.98    \u001b[0m |\n",
      "| \u001b[0m2        \u001b[0m | \u001b[0m-1.403e+0\u001b[0m | \u001b[0m5.241    \u001b[0m |\n",
      "| \u001b[0m3        \u001b[0m | \u001b[0m-9.883e+0\u001b[0m | \u001b[0m13.52    \u001b[0m |\n",
      "| \u001b[95m4        \u001b[0m | \u001b[95m-5.156e+0\u001b[0m | \u001b[95m23.85    \u001b[0m |\n",
      "| \u001b[0m5        \u001b[0m | \u001b[0m-1.223e+0\u001b[0m | \u001b[0m9.155    \u001b[0m |\n",
      "| \u001b[0m6        \u001b[0m | \u001b[0m-1.403e+0\u001b[0m | \u001b[0m4.624    \u001b[0m |\n",
      "| \u001b[0m7        \u001b[0m | \u001b[0m-1.534e+0\u001b[0m | \u001b[0m0.6968   \u001b[0m |\n",
      "| \u001b[0m8        \u001b[0m | \u001b[0m-1.037e+0\u001b[0m | \u001b[0m13.03    \u001b[0m |\n",
      "| \u001b[0m9        \u001b[0m | \u001b[0m-1.315e+0\u001b[0m | \u001b[0m7.399    \u001b[0m |\n",
      "| \u001b[0m10       \u001b[0m | \u001b[0m-1.172e+0\u001b[0m | \u001b[0m10.47    \u001b[0m |\n",
      "| \u001b[95m11       \u001b[0m | \u001b[95m-1.743e+0\u001b[0m | \u001b[95m30.71    \u001b[0m |\n",
      "| \u001b[0m12       \u001b[0m | \u001b[0m-1.312e+0\u001b[0m | \u001b[0m7.37     \u001b[0m |\n",
      "| \u001b[0m13       \u001b[0m | \u001b[0m-1.489e+0\u001b[0m | \u001b[0m2.517    \u001b[0m |\n",
      "| \u001b[0m14       \u001b[0m | \u001b[0m-6.584e+0\u001b[0m | \u001b[0m20.76    \u001b[0m |\n",
      "| \u001b[0m15       \u001b[0m | \u001b[0m-7.517e+0\u001b[0m | \u001b[0m19.26    \u001b[0m |\n",
      "| \u001b[0m16       \u001b[0m | \u001b[0m-1.221e+0\u001b[0m | \u001b[0m8.502    \u001b[0m |\n",
      "| \u001b[0m17       \u001b[0m | \u001b[0m-9.903e+0\u001b[0m | \u001b[0m14.45    \u001b[0m |\n",
      "| \u001b[0m18       \u001b[0m | \u001b[0m-1.447e+0\u001b[0m | \u001b[0m3.669    \u001b[0m |\n",
      "| \u001b[0m19       \u001b[0m | \u001b[0m-1.52e+04\u001b[0m | \u001b[0m2.293    \u001b[0m |\n",
      "| \u001b[0m20       \u001b[0m | \u001b[0m-3.225e+0\u001b[0m | \u001b[0m27.92    \u001b[0m |\n",
      "| \u001b[0m21       \u001b[0m | \u001b[0m-4.669e+0\u001b[0m | \u001b[0m24.61    \u001b[0m |\n",
      "| \u001b[0m22       \u001b[0m | \u001b[0m-4.173e+0\u001b[0m | \u001b[0m26.06    \u001b[0m |\n",
      "| \u001b[0m23       \u001b[0m | \u001b[0m-4.677e+0\u001b[0m | \u001b[0m25.27    \u001b[0m |\n",
      "| \u001b[95m24       \u001b[0m | \u001b[95m-1.725e+0\u001b[0m | \u001b[95m30.72    \u001b[0m |\n",
      "| \u001b[0m25       \u001b[0m | \u001b[0m-8.05e+03\u001b[0m | \u001b[0m17.9     \u001b[0m |\n",
      "| \u001b[0m26       \u001b[0m | \u001b[0m-4.643e+0\u001b[0m | \u001b[0m25.23    \u001b[0m |\n",
      "| \u001b[0m27       \u001b[0m | \u001b[0m-1.034e+0\u001b[0m | \u001b[0m13.06    \u001b[0m |\n",
      "| \u001b[0m28       \u001b[0m | \u001b[0m-1.534e+0\u001b[0m | \u001b[0m0.8509   \u001b[0m |\n",
      "| \u001b[0m29       \u001b[0m | \u001b[0m-9.902e+0\u001b[0m | \u001b[0m14.08    \u001b[0m |\n",
      "| \u001b[0m30       \u001b[0m | \u001b[0m-1.489e+0\u001b[0m | \u001b[0m3.265    \u001b[0m |\n",
      "| \u001b[0m31       \u001b[0m | \u001b[0m-1.729e+0\u001b[0m | \u001b[0m31.0     \u001b[0m |\n",
      "| \u001b[0m32       \u001b[0m | \u001b[0m-2.719e+0\u001b[0m | \u001b[0m29.3     \u001b[0m |\n",
      "| \u001b[0m33       \u001b[0m | \u001b[0m-2.239e+0\u001b[0m | \u001b[0m30.11    \u001b[0m |\n",
      "| \u001b[0m34       \u001b[0m | \u001b[0m-1.772e+0\u001b[0m | \u001b[0m30.87    \u001b[0m |\n",
      "| \u001b[0m35       \u001b[0m | \u001b[0m-3.704e+0\u001b[0m | \u001b[0m27.08    \u001b[0m |\n",
      "| \u001b[0m36       \u001b[0m | \u001b[0m-6.066e+0\u001b[0m | \u001b[0m22.31    \u001b[0m |\n",
      "| \u001b[0m37       \u001b[0m | \u001b[0m-1.781e+0\u001b[0m | \u001b[0m30.53    \u001b[0m |\n",
      "\u001b[91mData point [31.] is not unique. 1 duplicates registered. Continuing ...\u001b[0m\n",
      "| \u001b[0m38       \u001b[0m | \u001b[0m-1.732e+0\u001b[0m | \u001b[0m31.0     \u001b[0m |\n",
      "| \u001b[0m39       \u001b[0m | \u001b[0m-1.743e+0\u001b[0m | \u001b[0m30.65    \u001b[0m |\n",
      "\u001b[91mData point [31.] is not unique. 2 duplicates registered. Continuing ...\u001b[0m\n",
      "| \u001b[0m40       \u001b[0m | \u001b[0m-1.726e+0\u001b[0m | \u001b[0m31.0     \u001b[0m |\n",
      "=====================================\n"
     ]
    }
   ],
   "source": [
    "explainer = lime_tabular.LimeTabularExplainer(\n",
    "    training_data = x_train,\n",
    "    mode = 'classification'\n",
    ")\n",
    "\n",
    "def get_optimal_gmm(n_components):\n",
    "    c = round(n_components)\n",
    "    gmm = GaussianMixture(n_components = c).fit(x_train)\n",
    "    return gmm.bic(x_train)\n",
    "\n",
    "parameters = {'n_components': (0, len(x_train)//4)}\n",
    "\n",
    "gmm = GaussianMixture(n_components= n_classes).fit(x_train)\n",
    "gbm_bo = BayesianOptimization(get_optimal_gmm, parameters, random_state=111, allow_duplicate_points=True)\n",
    "gbm_bo.maximize(init_points = 30, n_iter = 10)"
   ]
  },
  {
   "cell_type": "code",
   "execution_count": 208,
   "metadata": {},
   "outputs": [],
   "source": [
    "def get_scores(ex):\n",
    "    '''Function to normalize scores using a softmax function multiplied by correlation signs'''\n",
    "    signs = np.sign(ex)\n",
    "    abs_softmax = softmax(np.abs(ex))\n",
    "    return abs_softmax*signs"
   ]
  },
  {
   "cell_type": "code",
   "execution_count": 216,
   "metadata": {},
   "outputs": [],
   "source": [
    "def run_explainability(fit_dist, train_samples, model, explainer, main_dist, num_samples, mcmc = False):\n",
    "    if mcmc == True:\n",
    "        # run monte carlo trials\n",
    "        samples, gmm_class = fit_dist.sample(num_samples)       # generate samples from the fit gmm\n",
    "        explanations = []                                       # list to store explanations\n",
    "        for sample in tqdm(samples):\n",
    "            interpret = get_local_interpretation(explainer, model.predict_proba, sample, n_feats)\n",
    "            sigmoid_interpretation = get_scores(interpret)\n",
    "            explanations.append(sigmoid_interpretation)\n",
    "            \n",
    "        agg_explanations = np.mean(np.array(explanations), axis = 0)        # aggregating\n",
    "        \n",
    "        return agg_explanations, explanations\n",
    "    \n",
    "\n",
    "    else:\n",
    "        # importance sampling\n",
    "        for i in train_samples:\n",
    "            \n",
    "    \n",
    "        \n",
    "        \n",
    "def rank_explanations(explanations):\n",
    "    return sorted(list(zip(range(len(explanations)), explanations)), key = lambda x: -abs(x[1]))"
   ]
  },
  {
   "cell_type": "code",
   "execution_count": 210,
   "metadata": {},
   "outputs": [
    {
     "name": "stderr",
     "output_type": "stream",
     "text": [
      "100%|██████████| 1000/1000 [00:15<00:00, 66.15it/s]\n"
     ]
    }
   ],
   "source": [
    "aggregated, point_explanations = run_explainability(gmm, x_train, model, explainer, None, 1000, mcmc = True)"
   ]
  },
  {
   "cell_type": "code",
   "execution_count": 217,
   "metadata": {},
   "outputs": [
    {
     "data": {
      "text/plain": [
       "[(3, 0.04617325244566326),\n",
       " (9, -0.03993967782324904),\n",
       " (10, 0.010348201772541496),\n",
       " (1, -0.005890853870338956),\n",
       " (4, -0.005867917618491432),\n",
       " (8, -0.0038131525180631646),\n",
       " (12, -0.0037540797648841122),\n",
       " (7, -0.001798897017011831),\n",
       " (2, -0.0017271300056940085),\n",
       " (6, -0.0013279739245751713),\n",
       " (11, -0.000791438543467537),\n",
       " (5, -0.0002891283140941929),\n",
       " (0, -0.0002557544337576667)]"
      ]
     },
     "execution_count": 217,
     "metadata": {},
     "output_type": "execute_result"
    }
   ],
   "source": [
    "rank_explanations(aggregated)"
   ]
  },
  {
   "cell_type": "code",
   "execution_count": 297,
   "metadata": {},
   "outputs": [
    {
     "data": {
      "image/png": "[encoded data removed]",
      "text/plain": [
       "<Figure size 800x670 with 1 Axes>"
      ]
     },
     "metadata": {},
     "output_type": "display_data"
    }
   ],
   "source": [
    "se = shap.Explainer(model)\n",
    "shap_values = se.shap_values(x_train)\n",
    "\n",
    "# def mean_shap_value(shap_vals):\n",
    "#     for i in shap_values:\n",
    "        \n",
    "        \n",
    "shap.summary_plot(shap_values)"
   ]
  },
  {
   "cell_type": "markdown",
   "metadata": {},
   "source": [
    "## Testing"
   ]
  },
  {
   "cell_type": "markdown",
   "metadata": {},
   "source": [
    "### Local2Global"
   ]
  },
  {
   "cell_type": "code",
   "execution_count": 261,
   "metadata": {},
   "outputs": [
    {
     "name": "stdout",
     "output_type": "stream",
     "text": [
      "1.0 0.8703703703703703\n"
     ]
    }
   ],
   "source": [
    "vals = list(set(np.arange(n_feats)).difference(set([3,9,10,11])))\n",
    "model_l2g = MODEL_FUNCTION(*model_params)\n",
    "model_l2g.fit(x_train[:, vals], y_train)\n",
    "\n",
    "acc_train_l2g = evaluate_model(model_l2g, x_train[:, vals], y_train)\n",
    "acc_test_l2g  = evaluate_model(model_l2g, x_test[:, vals], y_test)\n",
    "\n",
    "print(acc_train_l2g, acc_test_l2g)"
   ]
  },
  {
   "cell_type": "markdown",
   "metadata": {},
   "source": [
    "### Shap"
   ]
  },
  {
   "cell_type": "code",
   "execution_count": 249,
   "metadata": {},
   "outputs": [],
   "source": [
    "# shap features are 3, 6, 10, 9\n",
    "vals = list(set(np.arange(n_feats)).difference(set([3,6,10,9])))\n",
    "\n",
    "# x_train"
   ]
  },
  {
   "cell_type": "code",
   "execution_count": 275,
   "metadata": {},
   "outputs": [
    {
     "name": "stdout",
     "output_type": "stream",
     "text": [
      "1.0 0.8703703703703703\n"
     ]
    }
   ],
   "source": [
    "model_shap = MODEL_FUNCTION(*model_params)\n",
    "model_shap.fit(x_train[:, vals], y_train)\n",
    "\n",
    "acc_train_shap = evaluate_model(model_shap, x_train[:, vals], y_train)\n",
    "acc_test_shap  = evaluate_model(model_shap, x_test[:, vals], y_test)\n",
    "\n",
    "print(acc_train_shap, acc_test_shap)"
   ]
  }
 ],
 "metadata": {
  "kernelspec": {
   "display_name": "Python 3.11.5 ('torchnew')",
   "language": "python",
   "name": "python3"
  },
  "language_info": {
   "codemirror_mode": {
    "name": "ipython",
    "version": 3
   },
   "file_extension": ".py",
   "mimetype": "text/x-python",
   "name": "python",
   "nbconvert_exporter": "python",
   "pygments_lexer": "ipython3",
   "version": "3.11.5"
  },
  "orig_nbformat": 4,
  "vscode": {
   "interpreter": {
    "hash": "aae2c75324e7fdf5ebd22146e2daffaa477f8ea149f0e685be4c317c2939a685"
   }
  }
 },
 "nbformat": 4,
 "nbformat_minor": 2
}
